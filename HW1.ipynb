{
 "cells": [
  {
   "cell_type": "code",
   "execution_count": 1,
   "metadata": {
    "pycharm": {
     "is_executing": false
    }
   },
   "outputs": [],
   "source": [
    "from Bio import SeqIO\n",
    "\n",
    "from collections import Counter, defaultdict\n",
    "from pprint import pprint\n",
    "import matplotlib.pyplot as plt\n",
    "import seaborn as sns\n",
    "import numpy as np\n",
    "\n",
    "import time\n",
    "\n",
    "sns.set(style='whitegrid', font='serif')\n"
   ]
  },
  {
   "cell_type": "markdown",
   "metadata": {
    "pycharm": {
     "name": "#%% md\n"
    }
   },
   "source": [
    "## 1. (4*) Спектры k-меров\n"
   ]
  },
  {
   "cell_type": "code",
   "execution_count": 2,
   "metadata": {
    "pycharm": {
     "is_executing": true,
     "name": "#%%\n"
    }
   },
   "outputs": [
    {
     "data": {
      "image/png": "[encoded data removed]",
      "text/plain": [
       "<Figure size 432x288 with 1 Axes>"
      ]
     },
     "metadata": {
      "needs_background": "light"
     },
     "output_type": "display_data"
    },
    {
     "name": "stdout",
     "output_type": "stream",
     "text": [
      "Elapsed: 900.0095748901367 seconds\n"
     ]
    }
   ],
   "source": [
    "file = 'data/1/frag.R1.fastq'\n",
    "reads = SeqIO.parse(file, 'fastq')\n",
    "read_quality_threshold = 20\n",
    "base_quality_threshold = 22\n",
    "start_time = time.time()\n",
    "k = 6\n",
    "\n",
    "def check_quality_with_threshold(qs, threshold):\n",
    "    return any(q < threshold for q in qs)\n",
    "\n",
    "def check_for_N_existence(seq):\n",
    "    return any(c == 'N' for c in seq)\n",
    "\n",
    "k_mer_counter = Counter()\n",
    "\n",
    "for read_i, read in enumerate(reads):\n",
    "    qualities = read.letter_annotations[\"phred_quality\"]\n",
    "    seq = read.seq._data\n",
    "    if check_quality_with_threshold(qualities, read_quality_threshold): continue\n",
    "    \n",
    "    for i in range(len(seq) - k):\n",
    "        k_mer = seq[i:i+k]\n",
    "        k_mer_quality = qualities[i:i+k]\n",
    "        \n",
    "        if check_quality_with_threshold(k_mer_quality, base_quality_threshold): continue\n",
    "        if check_for_N_existence(k_mer): continue\n",
    "        \n",
    "        k_mer_counter[k_mer] += 1\n",
    "\n",
    "plt.hist(k_mer_counter.values(), bins=200)\n",
    "plt.xlabel(f'{k}-mer frequency')\n",
    "plt.ylabel('count')\n",
    "plt.show()\n",
    "print('Elapsed:', time.time() - start_time, 'seconds')\n"
   ]
  },
  {
   "cell_type": "markdown",
   "metadata": {},
   "source": [
    "## 2. Распределение качества\n",
    "\n"
   ]
  },
  {
   "cell_type": "code",
   "execution_count": 3,
   "metadata": {
    "pycharm": {
     "is_executing": true,
     "name": "#%%\n"
    }
   },
   "outputs": [
    {
     "data": {
      "image/png": "[encoded data removed]",
      "text/plain": [
       "<Figure size 432x288 with 1 Axes>"
      ]
     },
     "metadata": {},
     "output_type": "display_data"
    }
   ],
   "source": [
    "quality_at_dist_distribution = defaultdict(list)\n",
    "reads = SeqIO.parse(file, 'fastq')\n",
    "for read in reads:\n",
    "    qualities = read.letter_annotations[\"phred_quality\"]\n",
    "    [quality_at_dist_distribution[i // 10].append(q) for i, q in enumerate(qualities)]\n",
    "\n",
    "ln = len(quality_at_dist_distribution.values())\n",
    "\n",
    "sns.set(style='whitegrid', font='serif', font_scale=0.6)\n",
    "plt.boxplot(quality_at_dist_distribution.values())\n",
    "plt.xticks(range(ln + 1), [''] + [f'{i * 10}-{i * 10 + 9}' for i in range(ln)])\n",
    "plt.show()\n"
   ]
  },
  {
   "cell_type": "markdown",
   "metadata": {},
   "source": [
    "### 3. Проверка результатов с помощью fastqc"
   ]
  },
  {
   "cell_type": "code",
   "execution_count": 2,
   "metadata": {
    "pycharm": {
     "is_executing": true,
     "name": "#%%\n"
    }
   },
   "outputs": [
    {
     "name": "stdout",
     "output_type": "stream",
     "text": [
      "Started analysis of frag.R1.fastq\n",
      "Approx 5% complete for frag.R1.fastq\n",
      "Approx 10% complete for frag.R1.fastq\n",
      "Approx 15% complete for frag.R1.fastq\n",
      "Approx 20% complete for frag.R1.fastq\n",
      "Approx 25% complete for frag.R1.fastq\n",
      "Approx 30% complete for frag.R1.fastq\n",
      "Approx 35% complete for frag.R1.fastq\n",
      "Approx 40% complete for frag.R1.fastq\n",
      "Approx 45% complete for frag.R1.fastq\n",
      "Approx 50% complete for frag.R1.fastq\n",
      "Approx 55% complete for frag.R1.fastq\n",
      "Approx 60% complete for frag.R1.fastq\n",
      "Approx 65% complete for frag.R1.fastq\n",
      "Approx 70% complete for frag.R1.fastq\n",
      "Approx 75% complete for frag.R1.fastq\n",
      "Approx 80% complete for frag.R1.fastq\n",
      "Approx 85% complete for frag.R1.fastq\n",
      "Approx 90% complete for frag.R1.fastq\n",
      "Approx 95% complete for frag.R1.fastq\n",
      "Analysis complete for frag.R1.fastq\n"
     ]
    }
   ],
   "source": [
    "!fastqc -k 6 data/1/frag.R1.fastq\n"
   ]
  },
  {
   "cell_type": "markdown",
   "metadata": {},
   "source": [
    "<img src=\"data/1/fastqc-qualities.png\">"
   ]
  },
  {
   "cell_type": "markdown",
   "metadata": {},
   "source": [
    "Результаты для распределения ошибок получились очень похожими. (С поправкой на константу из разницы форматов phread33 и phread64 и немного других координат)."
   ]
  },
  {
   "cell_type": "code",
   "execution_count": null,
   "metadata": {},
   "outputs": [],
   "source": []
  }
 ],
 "metadata": {
  "kernelspec": {
   "display_name": "Python 3",
   "language": "python",
   "name": "python3"
  },
  "language_info": {
   "codemirror_mode": {
    "name": "ipython",
    "version": 3
   },
   "file_extension": ".py",
   "mimetype": "text/x-python",
   "name": "python",
   "nbconvert_exporter": "python",
   "pygments_lexer": "ipython3",
   "version": "3.7.4"
  },
  "pycharm": {
   "stem_cell": {
    "cell_type": "raw",
    "metadata": {
     "collapsed": false
    },
    "source": []
   }
  }
 },
 "nbformat": 4,
 "nbformat_minor": 1
}
