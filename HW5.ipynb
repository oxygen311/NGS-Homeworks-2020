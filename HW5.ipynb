{
 "cells": [
  {
   "cell_type": "markdown",
   "metadata": {},
   "source": [
    "Будем ипользовать **бибилиотеку netrowkx** для храниния и базовых функций работы с графами.\n",
    "\n",
    "Цитата из документации:\n",
    "> NetworkX uses dicts to store the nodes and neighbors in a graph. "
   ]
  },
  {
   "cell_type": "code",
   "execution_count": 1,
   "metadata": {},
   "outputs": [],
   "source": [
    "from de_bruijin_graph import DeBruijinGraph\n",
    "\n",
    "from time import time\n",
    "\n",
    "import matplotlib.pyplot as plt\n",
    "\n",
    "import warnings\n",
    "warnings.filterwarnings('ignore')"
   ]
  },
  {
   "cell_type": "markdown",
   "metadata": {},
   "source": [
    "### 1. Построить сжатый граф де Брюйна\n"
   ]
  },
  {
   "cell_type": "markdown",
   "metadata": {},
   "source": [
    "### 1000 ридов"
   ]
  },
  {
   "cell_type": "code",
   "execution_count": 2,
   "metadata": {},
   "outputs": [
    {
     "name": "stdout",
     "output_type": "stream",
     "text": [
      "6.297588109970093 seconds elapsed\n"
     ]
    }
   ],
   "source": [
    "start = time()\n",
    "\n",
    "g_1000 = DeBruijinGraph(55)\n",
    "g_1000.add_reads_from_fasta('data/5/s_6.first1000.fastq')\n",
    "g_1000.compress()\n",
    "g_1000.write_dot('data/5/output/s_6.first1000.dot')\n",
    "g_1000.write_fasta('data/5/output/s_6.first1000.fasta')\n",
    "\n",
    "print(time() - start, 'seconds elapsed')"
   ]
  },
  {
   "cell_type": "markdown",
   "metadata": {},
   "source": [
    "### 10000 ридов"
   ]
  },
  {
   "cell_type": "code",
   "execution_count": 3,
   "metadata": {},
   "outputs": [
    {
     "name": "stdout",
     "output_type": "stream",
     "text": [
      "93.40867781639099 seconds elapsed\n"
     ]
    }
   ],
   "source": [
    "start = time()\n",
    "\n",
    "g_10000 = DeBruijinGraph(55)\n",
    "g_10000.add_reads_from_fasta('data/5/s_6.first10000.fastq')\n",
    "g_10000.compress()\n",
    "g_10000.write_dot('data/5/output/s_6.first10000.dot')\n",
    "g_10000.write_fasta('data/5/output/s_6.first10000.fasta')\n",
    "\n",
    "print(time() - start, 'seconds elapsed')"
   ]
  },
  {
   "cell_type": "markdown",
   "metadata": {},
   "source": [
    "### 100000 ридов"
   ]
  },
  {
   "cell_type": "code",
   "execution_count": 4,
   "metadata": {},
   "outputs": [
    {
     "name": "stdout",
     "output_type": "stream",
     "text": [
      "1027.594072818756 seconds elapsed\n"
     ]
    }
   ],
   "source": [
    "start = time()\n",
    "\n",
    "g_100000 = DeBruijinGraph(55)\n",
    "g_100000.add_reads_from_fasta('data/5/s_6.first100000.fastq')\n",
    "g_100000.compress()\n",
    "g_100000.write_dot('data/5/output/s_6.first100000.dot')\n",
    "g_100000.write_fasta('data/5/output/s_6.first100000.fasta')\n",
    "\n",
    "print(time() - start, 'seconds elapsed')"
   ]
  },
  {
   "cell_type": "markdown",
   "metadata": {},
   "source": [
    "## 2. Упрощение графа"
   ]
  },
  {
   "cell_type": "markdown",
   "metadata": {},
   "source": [
    "### Отбрасывание хвостиков"
   ]
  },
  {
   "cell_type": "code",
   "execution_count": 9,
   "metadata": {},
   "outputs": [],
   "source": [
    "g_100000.remove_weak_edges(only_tales=True, threshold_from_mean=1/2.5)\n",
    "g_100000.compress()\n",
    "g_100000.write_dot('data/5/output/s_6.first100000_remove_1.dot')"
   ]
  },
  {
   "cell_type": "markdown",
   "metadata": {},
   "source": [
    "### Отбрасывание всех низко покрытых и коротких ребер"
   ]
  },
  {
   "cell_type": "code",
   "execution_count": 10,
   "metadata": {},
   "outputs": [],
   "source": [
    "g_100000.remove_weak_edges(only_tales=False, threshold_from_mean=1/5)\n",
    "g_100000.compress()\n",
    "g_100000.write_dot('data/5/output/s_6.first100000_remove_2.dot')"
   ]
  },
  {
   "cell_type": "markdown",
   "metadata": {},
   "source": [
    "Сложно сказать какой алгоритм для упрощения графа лучше.\n",
    "**Отбрасывание хвостиков** можно проводить более смело, так как мы почти не теряем важной информации с точки зрения общей топологии графа.\n",
    "Простое **удаление низко покрытых и коротких ребер** может привести к разрыву одного контига на пару, и в данном случае сложно с уверенностью сказать имела ли места подобная связь между контигами или мы разорвали связь не зря.\n",
    "\n",
    "Мне кажется, что разумнее всего использовать оба подхода, но с разными порогами на покрытие и длину. \n",
    "Именно этот метод я попытался реализовать в своём решении. \n",
    "Все результаты вместе с картинками приведены в папке `data/5/output`."
   ]
  },
  {
   "cell_type": "code",
   "execution_count": null,
   "metadata": {},
   "outputs": [],
   "source": []
  }
 ],
 "metadata": {
  "kernelspec": {
   "display_name": "Python 3",
   "language": "python",
   "name": "python3"
  },
  "language_info": {
   "codemirror_mode": {
    "name": "ipython",
    "version": 3
   },
   "file_extension": ".py",
   "mimetype": "text/x-python",
   "name": "python",
   "nbconvert_exporter": "python",
   "pygments_lexer": "ipython3",
   "version": "3.7.4"
  }
 },
 "nbformat": 4,
 "nbformat_minor": 2
}
